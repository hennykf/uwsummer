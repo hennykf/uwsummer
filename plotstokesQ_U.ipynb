{
 "cells": [
  {
   "cell_type": "code",
   "execution_count": 1,
   "metadata": {},
   "outputs": [],
   "source": [
    "from scipy.io.idl import readsav\n",
    "from netCDF4 import Dataset, num2date\n",
    "from mpl_toolkits.basemap import Basemap\n",
    "from astropy.io import fits\n",
    "import numpy as np\n",
    "import healpy as hp\n",
    "import scipy as sp\n",
    "import matplotlib\n",
    "import matplotlib.pyplot as plt\n",
    "from matplotlib.colors import LogNorm\n",
    "import os"
   ]
  },
  {
   "cell_type": "code",
   "execution_count": 2,
   "metadata": {},
   "outputs": [],
   "source": [
    "filename_Q = '/Users/Kiana/Desktop/projects/uwsummer/1131454296_uniform_Residual_Q_HEALPix.fits'\n",
    "filename_U = '/Users/Kiana/Desktop/projects/uwsummer/1131454296_uniform_Residual_I_HEALPix.fits'\n",
    "#warnings.filterwarnings(\"ignore\", category=DeprecationWarning)\n",
    "#m = Basemap(projection='moll', lon_0=90, resolution='c')\n",
    "# draw parallels and meridians. Degrees&direction intrinsic to basemap\n",
    "#m.drawparallels(np.arange(-90., 120., 30.));\n",
    "#m.drawmeridians(np.arange(0., 420., 60.));"
   ]
  },
  {
   "cell_type": "code",
   "execution_count": 3,
   "metadata": {},
   "outputs": [
    {
     "name": "stdout",
     "output_type": "stream",
     "text": [
      "<class 'astropy.io.fits.fitsrec.FITS_rec'>\n",
      "<class 'astropy.io.fits.fitsrec.FITS_rec'>\n",
      "ColDefs(\n",
      "    name = 'PIXEL'; format = '1J'\n",
      "    name = 'SIGNAL'; format = '1E'\n",
      "    name = 'N_OBS'; format = '1J'\n",
      "    name = 'SERROR'; format = '1E'\n",
      ")\n"
     ]
    }
   ],
   "source": [
    "contents_Q = fits.open(filename_Q)\n",
    "pixelnum_Q = contents_Q[1].header['naxis1'] * contents_Q[1].header['naxis2']\n",
    "data_Q = contents_Q[1].data\n",
    "nside_Q = contents_Q[1].header['nside']\n",
    "\n",
    "contents_U = fits.open(filename_U)\n",
    "pixelnum_U = contents_U[1].header['naxis1'] * contents_U[1].header['naxis2']\n",
    "data_U = contents_U[1].data\n",
    "nside_U = contents_U[1].header['nside']\n",
    "\n",
    "print type(data_Q)\n",
    "print type(data_U)\n",
    "print data_Q.columns"
   ]
  },
  {
   "cell_type": "code",
   "execution_count": 4,
   "metadata": {},
   "outputs": [
    {
     "name": "stdout",
     "output_type": "stream",
     "text": [
      "<type 'numpy.ndarray'>\n",
      "<type 'numpy.ndarray'>\n"
     ]
    }
   ],
   "source": [
    "# print pixels_Q.columns\n",
    "pixels_Q = data_Q.field('PIXEL')\n",
    "signal_Q = data_Q.field('SIGNAL')\n",
    "print type(pixels_Q)\n",
    "pixels_U = data_U.field('PIXEL')\n",
    "signal_U = data_U.field('SIGNAL')\n",
    "print type(pixels_U)"
   ]
  },
  {
   "cell_type": "code",
   "execution_count": 5,
   "metadata": {},
   "outputs": [],
   "source": [
    "ra_Q, dec_Q = hp.pixelfunc.pix2ang(int(nside_Q), pixels_Q, nest=False, lonlat=True)\n",
    "ra_Q[np.where(ra_Q > 180)] -= 360\n",
    "ra_U, dec_U = hp.pixelfunc.pix2ang(int(nside_U), pixels_Q, nest=False, lonlat=True)\n",
    "ra_U[np.where(ra_U > 180)] -= 360\n"
   ]
  },
  {
   "cell_type": "code",
   "execution_count": 6,
   "metadata": {},
   "outputs": [
    {
     "name": "stdout",
     "output_type": "stream",
     "text": [
      "[ 0.70445102  0.21135898  2.27524734 ...,  0.96283299  1.45022237\n",
      "  1.13905752]\n",
      "[ 0.02797391  0.00376939 -0.03366731 ...,  0.01308751  0.00294245\n",
      "  0.00946569]\n",
      "[ 0.02377575  0.00080877  0.03961205 ...,  0.01880682  0.02428534\n",
      "  0.0205451 ]\n"
     ]
    },
    {
     "name": "stderr",
     "output_type": "stream",
     "text": [
      "/Users/Kiana/anaconda/envs/python27/lib/python2.7/site-packages/ipykernel_launcher.py:11: DeprecationWarning: assignment will raise an error in the future, most likely because your index result shape does not match the value array shape. You can use `arr.flat[index] = values` to keep the old behaviour.\n",
      "  # This is added back by InteractiveShellApp.init_path()\n",
      "/Users/Kiana/anaconda/envs/python27/lib/python2.7/site-packages/ipykernel_launcher.py:12: DeprecationWarning: assignment will raise an error in the future, most likely because your index result shape does not match the value array shape. You can use `arr.flat[index] = values` to keep the old behaviour.\n",
      "  if sys.path[0] == '':\n"
     ]
    }
   ],
   "source": [
    "# Finding x and y from Stokes parameters U and Q\n",
    "Q = signal_Q\n",
    "U = signal_U\n",
    "#print U\n",
    "K = np.sqrt(U**2 + Q**2)\n",
    "U_pos = U[np.where(U >= 0)]\n",
    "U_neg = U[np.where(U < 0)]\n",
    "\n",
    "#theta is in radians\n",
    "theta = (.5*np.arccos(((K + Q)/K) - 1))\n",
    "theta[np.where(U >= 0)] = theta\n",
    "theta[np.where(U < 0)] = theta + np.pi/2\n",
    "print theta\n",
    "theta.shape\n",
    "\n",
    "x = K * np.cos(theta)\n",
    "y = K * np.sin(theta)\n",
    "print x\n",
    "print y"
   ]
  },
  {
   "cell_type": "code",
   "execution_count": 7,
   "metadata": {},
   "outputs": [
    {
     "data": {
      "image/png": "[encoded data removed]",
      "text/plain": [
       "<matplotlib.figure.Figure at 0x11a14b7d0>"
      ]
     },
     "metadata": {},
     "output_type": "display_data"
    }
   ],
   "source": [
    "plt.hist2d(x, y, bins=150, norm=LogNorm())\n",
    "plt.colorbar()\n",
    "plt.show()"
   ]
  },
  {
   "cell_type": "code",
   "execution_count": null,
   "metadata": {
    "collapsed": true
   },
   "outputs": [],
   "source": []
  }
 ],
 "metadata": {
  "kernelspec": {
   "display_name": "Python 2",
   "language": "python",
   "name": "python2"
  },
  "language_info": {
   "codemirror_mode": {
    "name": "ipython",
    "version": 2
   },
   "file_extension": ".py",
   "mimetype": "text/x-python",
   "name": "python",
   "nbconvert_exporter": "python",
   "pygments_lexer": "ipython2",
   "version": "2.7.13"
  }
 },
 "nbformat": 4,
 "nbformat_minor": 2
}
